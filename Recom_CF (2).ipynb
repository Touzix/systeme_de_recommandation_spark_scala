{
 "cells": [
  {
   "cell_type": "code",
   "execution_count": 1,
   "metadata": {
    "collapsed": true
   },
   "outputs": [],
   "source": [
    "import org.apache.spark.mllib.recommendation.ALS\n",
    "import org.apache.spark.mllib.recommendation.MatrixFactorizationModel\n",
    "import org.apache.spark.mllib.recommendation.Rating"
   ]
  },
  {
   "cell_type": "code",
   "execution_count": 2,
   "metadata": {
    "collapsed": false
   },
   "outputs": [],
   "source": [
    "/* Steps:\n",
    "-importing data \n",
    "-construction tuples CF: (UserID, MovieID, Rating)\n",
    "-construction tuples to identify movies ID: (MovieID, Title)\n",
    "*/\n",
    "val small_ratings_raw_data = sc.textFile(\"ratings.csv\")"
   ]
  },
  {
   "cell_type": "code",
   "execution_count": 3,
   "metadata": {
    "collapsed": false
   },
   "outputs": [],
   "source": [
    "val small_ratings_data = small_ratings_raw_data.filter(!_.contains(\"userId\")).map(line=>line.split(\",\")).map(l=>(l(0),l(1),l(2))).map(x=>(x._1.toInt, x._2.toInt,x._3.toDouble)).cache()"
   ]
  },
  {
   "cell_type": "code",
   "execution_count": 4,
   "metadata": {
    "collapsed": false
   },
   "outputs": [
    {
     "data": {
      "text/plain": [
       "(1,31,2.5)"
      ]
     },
     "execution_count": 4,
     "metadata": {},
     "output_type": "execute_result"
    }
   ],
   "source": [
    "small_ratings_data.first"
   ]
  },
  {
   "cell_type": "code",
   "execution_count": 5,
   "metadata": {
    "collapsed": true
   },
   "outputs": [],
   "source": [
    "// We do the same for the other file:\n",
    "val small_movies_raw_data = sc.textFile(\"movies.csv\")"
   ]
  },
  {
   "cell_type": "code",
   "execution_count": 6,
   "metadata": {
    "collapsed": false
   },
   "outputs": [],
   "source": [
    "val small_movies_data = small_movies_raw_data.filter(!_.contains(\"movieId\")).map(line=>line.split(\",\")).map(l=>(l(0),l(1))).map(x=>(x._1.toInt,x._2)).cache()"
   ]
  },
  {
   "cell_type": "code",
   "execution_count": 7,
   "metadata": {
    "collapsed": false
   },
   "outputs": [
    {
     "data": {
      "text/plain": [
       "9125"
      ]
     },
     "execution_count": 7,
     "metadata": {},
     "output_type": "execute_result"
    }
   ],
   "source": [
    "small_movies_data.count"
   ]
  },
  {
   "cell_type": "code",
   "execution_count": 8,
   "metadata": {
    "collapsed": false
   },
   "outputs": [
    {
     "data": {
      "text/plain": [
       "Name: Syntax Error.\n",
       "Message: \n",
       "StackTrace: "
      ]
     },
     "execution_count": 8,
     "metadata": {},
     "output_type": "execute_result"
    }
   ],
   "source": [
    "/*\n",
    "Collaboratif filtering with MLlib:\n",
    "numBlocks is the number of blocks used to parallelize computation (set to -1 to auto-configure).\n",
    "rank is the number of latent factors in the model.\n",
    "iterations is the number of iterations to run.\n",
    "lambda specifies the regularization parameter in ALS.\n",
    "implicitPrefs specifies whether to use the explicit feedback ALS variant or one adapted for implicit feedback data.\n",
    "alpha is a parameter applicable to the implicit feedback variant of ALS that governs the baseline confidence in preference observations.\n",
    "*/"
   ]
  },
  {
   "cell_type": "code",
   "execution_count": 9,
   "metadata": {
    "collapsed": false
   },
   "outputs": [],
   "source": [
    "val splits = small_ratings_data.randomSplit(Array(6, 2, 2), seed=0L)//60%train, 20%validation, 20%test\n",
    "val training_RDD =splits(0) //X,Y train matrix\n",
    "val validation_RDD=splits(1)//X,Y validation matrix \n",
    "val test_RDD=splits(2)//X,Y test matrix"
   ]
  },
  {
   "cell_type": "code",
   "execution_count": 12,
   "metadata": {
    "collapsed": false
   },
   "outputs": [
    {
     "data": {
      "text/plain": [
       "1"
      ]
     },
     "execution_count": 12,
     "metadata": {},
     "output_type": "execute_result"
    }
   ],
   "source": [
    "training_RDD.first._1 // pour manipuler les tuples"
   ]
  },
  {
   "cell_type": "code",
   "execution_count": 13,
   "metadata": {
    "collapsed": false
   },
   "outputs": [],
   "source": [
    "val validation_for_predict_RDD = validation_RDD.map(x=>(x._1.toInt, x._2.toInt))//contient X validation matrix\n",
    "val test_for_predict_RDD = test_RDD.map(x=>(x._1, x._2))//contient X test matrix "
   ]
  },
  {
   "cell_type": "code",
   "execution_count": 14,
   "metadata": {
    "collapsed": false
   },
   "outputs": [],
   "source": [
    "//construction du modele:\n",
    "//import math\n",
    "import org.apache.spark.mllib.recommendation.ALS\n",
    "import scala.math"
   ]
  },
  {
   "cell_type": "code",
   "execution_count": 15,
   "metadata": {
    "collapsed": false
   },
   "outputs": [],
   "source": [
    "//param de modele:\n",
    "val seed = 5L\n",
    "val iterations = 10\n",
    "val regularization_parameter = 0.1\n",
    "val ranks = Array(4, 8, 12)\n",
    "\n",
    "val tolerance = 0.02\n",
    "val min_error: Double = Double.PositiveInfinity\n",
    "val best_rank = -1\n",
    "val best_iteration = -1\n",
    "val ratings_train = training_RDD.map{case (user, item, rate) =>\n",
    "    Rating(user, item, rate)\n",
    "  } //xy train rating matrix\n",
    "val ratings_valid = validation_RDD.map{case (user, item, rate) =>\n",
    "    Rating(user, item, rate)\n",
    "  } //xy validation matrix\n",
    "val rating_test= test_RDD.map{case (user, item, rate) =>\n",
    "    Rating(user, item, rate)\n",
    "  } //xy test matrix "
   ]
  },
  {
   "cell_type": "code",
   "execution_count": 16,
   "metadata": {
    "collapsed": false
   },
   "outputs": [],
   "source": [
    "var errors = Array(0.0, 0.0, 0.0)\n",
    "var err = 0\n",
    "for (rank <- ranks){\n",
    "    val model= ALS.train(ratings_train, rank, iterations, regularization_parameter) //construction du modele \n",
    "    val predictions = \n",
    "      model.predict(ratings_valid.map{case Rating(u,p,r)=>(u,p)}).map { case Rating(user, product, rate) => \n",
    "        ((user, product), rate)\n",
    "      }//prediction sur xy validation matrix Rating\n",
    "    val ratesAndPreds = ratings_valid.map { case Rating(user, product, rate) => \n",
    "      ((user, product), rate) \n",
    "    }.join(predictions) //jointure de xy validation & xy prediction donne un truc de la forme (u1,i2),(4.01,4.2)    \n",
    "    var error = ratesAndPreds.map { case ((user, product), (r1, r2)) => \n",
    "      (r1 - r2)*(r1-r2)\n",
    "    }.mean()    \n",
    "    errors(err) = error\n",
    "    err = err +1\n",
    "    \n",
    "}"
   ]
  },
  {
   "cell_type": "code",
   "execution_count": 17,
   "metadata": {
    "collapsed": false
   },
   "outputs": [
    {
     "data": {
      "text/plain": [
       "Array(0.8962611326376609, 0.905157010869007, 0.9072216377348957)"
      ]
     },
     "execution_count": 17,
     "metadata": {},
     "output_type": "execute_result"
    }
   ],
   "source": [
    "errors"
   ]
  },
  {
   "cell_type": "code",
   "execution_count": 21,
   "metadata": {
    "collapsed": true
   },
   "outputs": [],
   "source": [
    "// a recommander based on all our data set:\n",
    "val seed = 5L\n",
    "val iterations = 10\n",
    "val regularization_parameter = 0.1\n",
    "val ranks = Array(4, 8, 12,24)\n",
    "\n",
    "val tolerance = 0.02\n",
    "val min_error: Double = Double.PositiveInfinity\n",
    "val best_rank = -1\n",
    "val best_iteration = -1\n",
    "val ratings = small_ratings_data.map{case (user, item, rate) =>\n",
    "    Rating(user, item, rate)\n",
    "  } //xy train rating matrix\n",
    " \n",
    "\n"
   ]
  },
  {
   "cell_type": "code",
   "execution_count": 22,
   "metadata": {
    "collapsed": true
   },
   "outputs": [],
   "source": [
    "var errors = Array(0.0, 0.0, 0.0,0.0)\n",
    "var err = 0\n",
    "for (rank <- ranks){\n",
    "    val model= ALS.train(ratings, rank, iterations, regularization_parameter) //construction du modele \n",
    "    val predictions = \n",
    "      model.predict(ratings.map{case Rating(u,p,r)=>(u,p)}).map { case Rating(user, product, rate) => \n",
    "        ((user, product), rate)\n",
    "      }//prediction sur xy validation matrix Rating\n",
    "    val ratesAndPreds = ratings.map { case Rating(user, product, rate) => \n",
    "      ((user, product), rate) \n",
    "    }.join(predictions) //jointure de xy validation & xy prediction donne un truc de la forme (u1,i2),(4.01,4.2)    \n",
    "    var error = ratesAndPreds.map { case ((user, product), (r1, r2)) => \n",
    "      (r1 - r2)*(r1-r2)\n",
    "    }.mean()    \n",
    "    errors(err) = error\n",
    "    err = err +1\n",
    "    \n",
    "}"
   ]
  },
  {
   "cell_type": "code",
   "execution_count": 23,
   "metadata": {
    "collapsed": false
   },
   "outputs": [
    {
     "data": {
      "text/plain": [
       "Array(0.4949739636950269, 0.39967907441298567, 0.35048828830210266, 0.2878749392171776)"
      ]
     },
     "execution_count": 23,
     "metadata": {},
     "output_type": "execute_result"
    }
   ],
   "source": [
    "errors //meilleur err est pour rank==24"
   ]
  },
  {
   "cell_type": "code",
   "execution_count": 24,
   "metadata": {
    "collapsed": false
   },
   "outputs": [
    {
     "data": {
      "text/plain": [
       "org.apache.spark.mllib.recommendation.MatrixFactorizationModel@4ebc0b7a"
      ]
     },
     "execution_count": 24,
     "metadata": {},
     "output_type": "execute_result"
    }
   ],
   "source": [
    "val model_finale= ALS.train(ratings, 24, iterations, regularization_parameter)\n",
    "model_finale"
   ]
  },
  {
   "cell_type": "code",
   "execution_count": 27,
   "metadata": {
    "collapsed": false
   },
   "outputs": [],
   "source": [
    "//recomandation for a user:\n",
    "// we want to recommand movies with minimal number of rates:\n",
    "def get_counts_and_averages(x:Int,y:Array[Double])={//prend Rating Matrix \n",
    "    val nratings = y.size\n",
    "    var s=0.0\n",
    "    for (elt<-y) {\n",
    "    s=s+elt\n",
    "    }\n",
    "    s=s/nratings\n",
    "    (x,(nratings, s))\n",
    "    \n",
    "}"
   ]
  },
  {
   "cell_type": "code",
   "execution_count": 28,
   "metadata": {
    "collapsed": false
   },
   "outputs": [],
   "source": [
    "val movie_ID_with_ratings_RDD = (ratings.map{case(Rating(u,i,r)) => (i,r)}.groupByKey().map(x=>(x._1,x._2.toArray)))//(it,array_of_rates)\n",
    "val movie_ID_with_avg_ratings_RDD = movie_ID_with_ratings_RDD.map(x=> get_counts_and_averages(x._1,x._2))//(it1,(nbr_rate,mean_of_rate))\n",
    "val movie_rating_counts_RDD = movie_ID_with_avg_ratings_RDD.map(x=> (x._1,x._2._1))//(it,nbr_rate)"
   ]
  },
  {
   "cell_type": "code",
   "execution_count": 29,
   "metadata": {
    "collapsed": false
   },
   "outputs": [],
   "source": [
    "//Adding new user rating id==0 is not used in the data base\n",
    "val new_user_ID=0\n",
    "val new_user_ratings = Array(\n",
    "     (0,260,4), // Star Wars (1977)\n",
    "     (0,1,3), // Toy Story (1995)\n",
    "     (0,16,3), // Casino (1995)\n",
    "     (0,25,4), // Leaving Las Vegas (1995)\n",
    "     (0,32,4), // Twelve Monkeys (a.k.a. 12 Monkeys) (1995)\n",
    "     (0,335,1), // Flintstones, The (1994)\n",
    "     (0,379,1), // Timecop (1994)\n",
    "     (0,296,3), // Pulp Fiction (1994)\n",
    "     (0,858,5) , // Godfather, The (1972)\n",
    "     (0,50,4) // Usual Suspects, The (1995)\n",
    "    )\n",
    "val new_user_ratings_RDD = sc.parallelize(new_user_ratings)//transform array to RDD\n"
   ]
  },
  {
   "cell_type": "code",
   "execution_count": 30,
   "metadata": {
    "collapsed": false
   },
   "outputs": [],
   "source": [
    "//we add this user to the data base:\n",
    "val rating_new = ratings.union(new_user_ratings_RDD.map{case (user, item, rate) =>\n",
    "    Rating(user.toInt, item.toInt, rate.toDouble)})\n"
   ]
  },
  {
   "cell_type": "code",
   "execution_count": 31,
   "metadata": {
    "collapsed": false
   },
   "outputs": [],
   "source": [
    "val new_ratings_model = ALS.train(rating_new, 4, iterations, regularization_parameter) //construction du modele best rank 24 \n"
   ]
  },
  {
   "cell_type": "code",
   "execution_count": 32,
   "metadata": {
    "collapsed": false
   },
   "outputs": [],
   "source": [
    "//getting top recommandations:\n",
    "//we will start by getting un RDD wich contains all the movies that wasn't watched by the user:\n",
    "val new_user_ratings_ids = new_user_ratings.map(x=>x._2)//get just ids of movies watched by the yser \n",
    "val new_user_unrated_movies_RDD = (small_movies_data.filter(l=>(!new_user_ratings_ids.contains(l._1)))).map(x=>(new_user_ID, x._1))\n",
    "val new_user_recommendations_RDD = new_ratings_model.predict(new_user_unrated_movies_RDD).map { case Rating(user, product, rate) => \n",
    "        ((user, product), rate)}"
   ]
  },
  {
   "cell_type": "code",
   "execution_count": 33,
   "metadata": {
    "collapsed": false
   },
   "outputs": [
    {
     "data": {
      "text/plain": [
       "Array(((0,37739),2.3446412178030087), ((0,142192),3.157847202782365), ((0,69069),2.202011578860459), ((0,81132),3.3948951616230505), ((0,667),2.370056782139219))"
      ]
     },
     "execution_count": 33,
     "metadata": {},
     "output_type": "execute_result"
    }
   ],
   "source": [
    "new_user_recommendations_RDD.take(5)"
   ]
  },
  {
   "cell_type": "code",
   "execution_count": 34,
   "metadata": {
    "collapsed": true
   },
   "outputs": [],
   "source": [
    "val new_user_recommendations_rating_RDD = new_user_recommendations_RDD.map(x=>(x._1._2, x._2))//(iditem,rate)\n"
   ]
  },
  {
   "cell_type": "code",
   "execution_count": 35,
   "metadata": {
    "collapsed": false
   },
   "outputs": [
    {
     "data": {
      "text/plain": [
       "(37739,2.3446412178030087)"
      ]
     },
     "execution_count": 35,
     "metadata": {},
     "output_type": "execute_result"
    }
   ],
   "source": [
    "new_user_recommendations_rating_RDD.first"
   ]
  },
  {
   "cell_type": "code",
   "execution_count": 36,
   "metadata": {
    "collapsed": false
   },
   "outputs": [
    {
     "data": {
      "text/plain": [
       "Name: Syntax Error.\n",
       "Message: \n",
       "StackTrace: "
      ]
     },
     "execution_count": 36,
     "metadata": {},
     "output_type": "execute_result"
    }
   ],
   "source": [
    "val new_user_recommendations_rating_title_and_count_RDD = new_user_recommendations_rating_RDD.join(small_movies_data).join(movie_rating_counts_RDD)\n",
    "//new_user_recommendations_rating_RDD: for the user0: (itid,rate_prédit)\n",
    "//small_movies_data:(idit,title)\n",
    "//movie_rating_counts_RDD: (it,nbr_rate_déja_fait)\n",
    "//(iditem,((rate,title),nbr_rate_deja_fait)))"
   ]
  },
  {
   "cell_type": "code",
   "execution_count": 37,
   "metadata": {
    "collapsed": false
   },
   "outputs": [
    {
     "data": {
      "text/plain": [
       "Array((37739,((2.3446412178030087,\"Greatest Game Ever Played),1)), (142192,((3.157847202782365,Female on the Beach (1955)),1)), (69069,((2.202011578860459,Fired Up (2009)),3)))"
      ]
     },
     "execution_count": 37,
     "metadata": {},
     "output_type": "execute_result"
    }
   ],
   "source": [
    "new_user_recommendations_rating_title_and_count_RDD.take(3)"
   ]
  },
  {
   "cell_type": "code",
   "execution_count": 38,
   "metadata": {
    "collapsed": false
   },
   "outputs": [],
   "source": [
    "val new_user_recommendations_rating_title_and_count_RDD_format=new_user_recommendations_rating_title_and_count_RDD.map{ case (i,((r,t),c))=> (t,r,c)}"
   ]
  },
  {
   "cell_type": "code",
   "execution_count": 39,
   "metadata": {
    "collapsed": false
   },
   "outputs": [
    {
     "data": {
      "text/plain": [
       "(\"Greatest Game Ever Played,2.3446412178030087,1)"
      ]
     },
     "execution_count": 39,
     "metadata": {},
     "output_type": "execute_result"
    }
   ],
   "source": [
    "new_user_recommendations_rating_title_and_count_RDD_format.first"
   ]
  },
  {
   "cell_type": "code",
   "execution_count": 60,
   "metadata": {
    "collapsed": false
   },
   "outputs": [],
   "source": [
    "val top_movies = new_user_recommendations_rating_title_and_count_RDD_format.filter(x=>x._3>=25).map(x=>(x._1,x._2)).map(item => item.swap).sortByKey(false, 1).map(item => item.swap).take(5)"
   ]
  },
  {
   "cell_type": "code",
   "execution_count": 41,
   "metadata": {
    "collapsed": false
   },
   "outputs": [
    {
     "data": {
      "text/plain": [
       "Array((Modern Times (1936),4.265634643048782), (There Will Be Blood (2007),4.2168618496493835), (\"Lives of Others,4.180439466184994), (Cinema Paradiso (Nuovo cinema Paradiso) (1989),4.143232017416185), (\"Third Man,4.127757003770054))"
      ]
     },
     "execution_count": 41,
     "metadata": {},
     "output_type": "execute_result"
    }
   ],
   "source": [
    "top_movies.take(5)"
   ]
  },
  {
   "cell_type": "code",
   "execution_count": 42,
   "metadata": {
    "collapsed": false
   },
   "outputs": [
    {
     "data": {
      "text/plain": [
       "Array((\"Greatest Game Ever Played,2.3446412178030087))"
      ]
     },
     "execution_count": 42,
     "metadata": {},
     "output_type": "execute_result"
    }
   ],
   "source": [
    "new_user_recommendations_rating_title_and_count_RDD.filter(x=>x._1==37739).map{case (i,((r,t),c)) =>(t,r)}.collect()"
   ]
  },
  {
   "cell_type": "code",
   "execution_count": 43,
   "metadata": {
    "collapsed": false
   },
   "outputs": [
    {
     "data": {
      "text/plain": [
       "Array((\"Greatest Game Ever Played,2.3446412178030087))"
      ]
     },
     "execution_count": 43,
     "metadata": {},
     "output_type": "execute_result"
    }
   ],
   "source": [
    "//Recommandation for a particular movie:\n",
    "new_user_recommendations_rating_title_and_count_RDD.filter(x=>x._1==37739).map{case (i,((r,t),c)) =>(t,r)}.collect()\n"
   ]
  },
  {
   "cell_type": "code",
   "execution_count": 44,
   "metadata": {
    "collapsed": false
   },
   "outputs": [
    {
     "data": {
      "text/plain": [
       "Name: Syntax Error.\n",
       "Message: \n",
       "StackTrace: "
      ]
     },
     "execution_count": 44,
     "metadata": {},
     "output_type": "execute_result"
    }
   ],
   "source": [
    "//pour chercher un film: .filter(x=>x._2._1._2==\"Greatest Game Ever Played\")"
   ]
  },
  {
   "cell_type": "code",
   "execution_count": 45,
   "metadata": {
    "collapsed": false
   },
   "outputs": [
    {
     "data": {
      "text/plain": [
       "3.418232923178837"
      ]
     },
     "execution_count": 45,
     "metadata": {},
     "output_type": "execute_result"
    }
   ],
   "source": [
    "new_ratings_model.predict(0,260)//dans la base c'est 4! //c'est la prediction du notre us=0, it=260"
   ]
  },
  {
   "cell_type": "code",
   "execution_count": 46,
   "metadata": {
    "collapsed": false
   },
   "outputs": [
    {
     "data": {
      "text/plain": [
       "Array(Rating(0,83411,5.224928366870562), Rating(0,83318,5.224928366870562), Rating(0,83359,5.224928366870562), Rating(0,67504,5.224928366870562), Rating(0,3216,5.141320426749068))"
      ]
     },
     "execution_count": 46,
     "metadata": {},
     "output_type": "execute_result"
    }
   ],
   "source": [
    "new_ratings_model.recommendProducts(0,5)//meilleurs items pour user 0"
   ]
  },
  {
   "cell_type": "code",
   "execution_count": 47,
   "metadata": {
    "collapsed": false
   },
   "outputs": [
    {
     "data": {
      "text/plain": [
       "(1,Array(-1.3132872581481934, -0.5050001740455627, -1.6660280227661133, 0.14109393954277039))"
      ]
     },
     "execution_count": 47,
     "metadata": {},
     "output_type": "execute_result"
    }
   ],
   "source": [
    "new_ratings_model.productFeatures.first //variable latente d'item 1  //on peut trouver la similarité entre 2 items avec ça!\n",
    " "
   ]
  },
  {
   "cell_type": "code",
   "execution_count": 48,
   "metadata": {
    "collapsed": false
   },
   "outputs": [
    {
     "data": {
      "text/plain": [
       "(0,Array(-1.5866738557815552, -0.096355140209198, -0.6919734477996826, 0.1393214613199234))"
      ]
     },
     "execution_count": 48,
     "metadata": {},
     "output_type": "execute_result"
    }
   ],
   "source": [
    "new_ratings_model.userFeatures.first //variable latente d'utilisateur 0 //on peut trouver la similarité entre 2 utilisateurs avec ça!\n"
   ]
  }
 ],
 "metadata": {
  "kernelspec": {
   "display_name": "Apache Toree - Scala",
   "language": "scala",
   "name": "apache_toree_scala"
  },
  "language_info": {
   "name": "scala"
  }
 },
 "nbformat": 4,
 "nbformat_minor": 1
}
